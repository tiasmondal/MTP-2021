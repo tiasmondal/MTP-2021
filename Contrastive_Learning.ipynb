{
  "nbformat": 4,
  "nbformat_minor": 0,
  "metadata": {
    "colab": {
      "name": "Contrastive_Learning.ipynb",
      "provenance": [],
      "collapsed_sections": [],
      "authorship_tag": "ABX9TyOVpfQ/YVAsWA3lKEKIDK9r",
      "include_colab_link": true
    },
    "kernelspec": {
      "name": "python3",
      "display_name": "Python 3"
    },
    "language_info": {
      "name": "python"
    },
    "accelerator": "GPU"
  },
  "cells": [
    {
      "cell_type": "markdown",
      "metadata": {
        "id": "view-in-github",
        "colab_type": "text"
      },
      "source": [
        "<a href=\"https://colab.research.google.com/github/tiasmondal/MTP-2021/blob/main/Contrastive_Learning.ipynb\" target=\"_parent\"><img src=\"https://colab.research.google.com/assets/colab-badge.svg\" alt=\"Open In Colab\"/></a>"
      ]
    },
    {
      "cell_type": "code",
      "metadata": {
        "colab": {
          "base_uri": "https://localhost:8080/"
        },
        "id": "pHxbhJKh42sw",
        "outputId": "154b46b1-2012-4794-f6f6-6a005a0be4e8"
      },
      "source": [
        "from google.colab import drive\n",
        "drive.mount('/content/drive')"
      ],
      "execution_count": 16,
      "outputs": [
        {
          "output_type": "stream",
          "name": "stdout",
          "text": [
            "Drive already mounted at /content/drive; to attempt to forcibly remount, call drive.mount(\"/content/drive\", force_remount=True).\n"
          ]
        }
      ]
    },
    {
      "cell_type": "code",
      "metadata": {
        "id": "NBTJAVXI47Mh"
      },
      "source": [
        "import tensorflow as tf\n",
        "#import tensorflow_addons as tfa\n",
        "import numpy as np\n",
        "import torchvision\n",
        "from tensorflow import keras\n",
        "from tensorflow.keras import layers\n",
        "import torch\n",
        "import torch.nn as nn\n",
        "from sklearn.manifold import TSNE"
      ],
      "execution_count": 17,
      "outputs": []
    },
    {
      "cell_type": "code",
      "metadata": {
        "colab": {
          "base_uri": "https://localhost:8080/"
        },
        "id": "gGVlMuX_XlIJ",
        "outputId": "685cb271-8186-439f-b303-5b6de30c7526"
      },
      "source": [
        "!nvidia-smi"
      ],
      "execution_count": 18,
      "outputs": [
        {
          "output_type": "stream",
          "name": "stdout",
          "text": [
            "Thu Sep 16 15:52:17 2021       \n",
            "+-----------------------------------------------------------------------------+\n",
            "| NVIDIA-SMI 470.63.01    Driver Version: 460.32.03    CUDA Version: 11.2     |\n",
            "|-------------------------------+----------------------+----------------------+\n",
            "| GPU  Name        Persistence-M| Bus-Id        Disp.A | Volatile Uncorr. ECC |\n",
            "| Fan  Temp  Perf  Pwr:Usage/Cap|         Memory-Usage | GPU-Util  Compute M. |\n",
            "|                               |                      |               MIG M. |\n",
            "|===============================+======================+======================|\n",
            "|   0  Tesla K80           Off  | 00000000:00:04.0 Off |                    0 |\n",
            "| N/A   72C    P0    73W / 149W |    613MiB / 11441MiB |      0%      Default |\n",
            "|                               |                      |                  N/A |\n",
            "+-------------------------------+----------------------+----------------------+\n",
            "                                                                               \n",
            "+-----------------------------------------------------------------------------+\n",
            "| Processes:                                                                  |\n",
            "|  GPU   GI   CI        PID   Type   Process name                  GPU Memory |\n",
            "|        ID   ID                                                   Usage      |\n",
            "|=============================================================================|\n",
            "|  No running processes found                                                 |\n",
            "+-----------------------------------------------------------------------------+\n"
          ]
        }
      ]
    },
    {
      "cell_type": "markdown",
      "metadata": {
        "id": "pkfosFDQ5o9f"
      },
      "source": [
        "SIMCLR LOSS"
      ]
    },
    {
      "cell_type": "code",
      "metadata": {
        "colab": {
          "base_uri": "https://localhost:8080/"
        },
        "id": "eqMdsPJz49Io",
        "outputId": "c7f9ed5f-f950-48a0-a809-5e7ca3e0450d"
      },
      "source": [
        "class SimCLR_Loss(nn.Module):\n",
        "    def __init__(self, batch_size, temperature):\n",
        "        super(SimCLR_Loss, self).__init__()\n",
        "        self.batch_size = batch_size\n",
        "        self.temperature = temperature\n",
        "        self.mask = self.mask_correlated_samples(batch_size)\n",
        "        self.criterion = nn.CrossEntropyLoss(reduction=\"sum\")\n",
        "        self.similarity_f = nn.CosineSimilarity(dim=2)\n",
        "\n",
        "    def mask_correlated_samples(self, batch_size):\n",
        "        N = 2 * batch_size\n",
        "        mask = torch.ones((N, N), dtype=bool)\n",
        "        mask = mask.fill_diagonal_(0)\n",
        "        for i in range(batch_size):\n",
        "            mask[i, batch_size + i] = 0\n",
        "            mask[batch_size + i, i] = 0\n",
        "        return mask\n",
        "\n",
        "    def forward(self, z_i, z_j):\n",
        "        \"\"\"\n",
        "        We do not sample negative examples explicitly.\n",
        "        Instead, given a positive pair, similar to (Chen et al., 2017), we treat the other 2(N − 1) augmented examples within a minibatch as negative examples.\n",
        "        \"\"\"\n",
        "        N = 2 * self.batch_size #* self.world_size\n",
        "        #z_i_ = z_i / torch.sqrt(torch.sum(torch.square(z_i),dim = 1, keepdim = True))\n",
        "        #z_j_ = z_j / torch.sqrt(torch.sum(torch.square(z_j),dim = 1, keepdim = True))\n",
        "        z = torch.cat((z_i, z_j), dim=0)\n",
        "        #print(z);    #Print for understanding\n",
        "        z=z.float();\n",
        "        sim = self.similarity_f(z.unsqueeze(1), z.unsqueeze(0)) / self.temperature\n",
        "        #print(sim);              #Print for understanding\n",
        "        sim_i_j = torch.diag(sim, self.batch_size)\n",
        "        sim_j_i = torch.diag(sim, -self.batch_size)\n",
        "        #print(self.mask)               #Print for understanding\n",
        "        # We have 2N samples, but with Distributed training every GPU gets N examples too, resulting in: 2xNxN\n",
        "        positive_samples = torch.cat((sim_i_j, sim_j_i), dim=0).reshape(N, 1)\n",
        "        #print(positive_samples)         #Print for understanding\n",
        "        negative_samples = sim[self.mask].reshape(N, -1)\n",
        "        #print(negative_samples)         #Print for understanding\n",
        "        #SIMCLR\n",
        "        labels = torch.from_numpy(np.array([0]*N)).reshape(-1).to(positive_samples.device).long() #.float()\n",
        "        #print(np.array([1]*N).reshape(-1))    #Print for understanding\n",
        "        #labels was torch.zeros(N)\n",
        "        logits = torch.cat((positive_samples, negative_samples), dim=1)\n",
        "        #print(logits)                        #Print for understanding\n",
        "        loss = self.criterion(logits, labels)\n",
        "        loss /= N\n",
        "\n",
        "        return loss\n",
        "\n",
        "\n",
        "\n",
        "num_classes = 10\n",
        "input_shape = (32, 32, 3)\n",
        "\n",
        "# Load the train and test data splits\n",
        "(x_train, y_train), (x_test, y_test) = keras.datasets.cifar10.load_data()\n",
        "\n",
        "# Display shapes of train and test datasets\n",
        "print(f\"x_train shape: {x_train.shape} - y_train shape: {y_train.shape}\")\n",
        "print(f\"x_test shape: {x_test.shape} - y_test shape: {y_test.shape}\")\n",
        "X=SimCLR_Loss(2,1)\n",
        "\n",
        "X.forward(torch.randn( 2, 2),torch.randn(2, 2))"
      ],
      "execution_count": 19,
      "outputs": [
        {
          "output_type": "stream",
          "name": "stdout",
          "text": [
            "x_train shape: (50000, 32, 32, 3) - y_train shape: (50000, 1)\n",
            "x_test shape: (10000, 32, 32, 3) - y_test shape: (10000, 1)\n"
          ]
        },
        {
          "output_type": "execute_result",
          "data": {
            "text/plain": [
              "tensor(0.6331)"
            ]
          },
          "metadata": {},
          "execution_count": 19
        }
      ]
    },
    {
      "cell_type": "markdown",
      "metadata": {
        "id": "SWsd8nkN5mGO"
      },
      "source": [
        "Transform Layer"
      ]
    },
    {
      "cell_type": "code",
      "metadata": {
        "id": "pRyjjb-E5e3l"
      },
      "source": [
        "class TransformsSimCLR:\n",
        "    \"\"\"\n",
        "    A stochastic data augmentation module that transforms any given data example randomly\n",
        "    resulting in two correlated views of the same example,\n",
        "    denoted x ̃i and x ̃j, which we consider as a positive pair.\n",
        "    \"\"\"\n",
        "\n",
        "    def __init__(self, size):\n",
        "        s = 1\n",
        "        color_jitter = torchvision.transforms.ColorJitter(\n",
        "            0.8 * s, 0.8 * s, 0.8 * s, 0.2 * s\n",
        "        )\n",
        "        self.train_transform = torchvision.transforms.Compose(\n",
        "            [\n",
        "                torchvision.transforms.RandomResizedCrop(size=size),\n",
        "                torchvision.transforms.RandomHorizontalFlip(),  # with 0.5 probability\n",
        "                torchvision.transforms.RandomApply([color_jitter], p=0.8),\n",
        "                torchvision.transforms.RandomGrayscale(p=0.2),\n",
        "                torchvision.transforms.ToTensor(),\n",
        "            ]\n",
        "        )\n",
        "\n",
        "        self.test_transform = torchvision.transforms.Compose(\n",
        "            [\n",
        "                torchvision.transforms.Resize(size=size),\n",
        "                torchvision.transforms.ToTensor(),\n",
        "            ]\n",
        "        )\n",
        "\n",
        "    def __call__(self, x):\n",
        "        return self.train_transform(x), self.train_transform(x)"
      ],
      "execution_count": 20,
      "outputs": []
    },
    {
      "cell_type": "markdown",
      "metadata": {
        "id": "ESWCkBa-5jSY"
      },
      "source": [
        "Loading dataset"
      ]
    },
    {
      "cell_type": "code",
      "metadata": {
        "colab": {
          "base_uri": "https://localhost:8080/",
          "height": 549
        },
        "id": "5WHIY_bo5gUA",
        "outputId": "6b21cf2d-d2ce-4676-a271-be7eddeff7ca"
      },
      "source": [
        "import torch\n",
        "from torch.utils.data import Dataset\n",
        "from torchvision import datasets\n",
        "from torchvision.transforms import ToTensor\n",
        "import matplotlib.pyplot as plt\n",
        "from torch.utils.data import DataLoader\n",
        "\n",
        "training_data = datasets.CIFAR10(                #Loading CIFAR 10\n",
        "    root=\"data\",\n",
        "    train=True,\n",
        "    download=True,\n",
        "    transform=TransformsSimCLR((32,32))\n",
        ")\n",
        "test_dataset = torchvision.datasets.CIFAR10(root='data',\n",
        "train=False,\n",
        "download=True,\n",
        "transform=TransformsSimCLR((32,32)))\n",
        "\n",
        "\n",
        "train_dataloader = DataLoader(training_data, batch_size=64, shuffle=True)          #Loading train loader\n",
        "\n",
        "train_loader = torch.utils.data.DataLoader(\n",
        "        training_data,\n",
        "        batch_size=64,\n",
        "        shuffle=True,\n",
        "        drop_last=True,\n",
        "        \n",
        "    )\n",
        "test_loader = torch.utils.data.DataLoader(\n",
        "        test_dataset,\n",
        "        batch_size=64,  #Classifier batch size\n",
        "        shuffle=False,\n",
        "        drop_last=True,\n",
        "        \n",
        "    )\n",
        "\n",
        "'''train_features, train_labels = next(iter(train_dataloader))\n",
        "print(f\"Feature batch shape: {train_features.size()}\")\n",
        "print(f\"Labels batch shape: {train_labels.size()}\")\n",
        "img = train_features[0].squeeze()\n",
        "label = train_labels[0]'''\n",
        "cnt=0;\n",
        "\n",
        "for step, ((x_i, x_j),_) in enumerate(train_loader):\n",
        "  plt.imshow(x_i[1].T)\n",
        "  break;\n",
        "plt.figure()\n",
        "for step, ((x_i, x_j),_) in enumerate(test_loader):\n",
        "  plt.imshow(x_i[1].T)\n",
        "  break;"
      ],
      "execution_count": 21,
      "outputs": [
        {
          "output_type": "stream",
          "name": "stdout",
          "text": [
            "Files already downloaded and verified\n",
            "Files already downloaded and verified\n"
          ]
        },
        {
          "output_type": "display_data",
          "data": {
            "image/png": "[encoded data removed]",
            "text/plain": [
              "<Figure size 432x288 with 1 Axes>"
            ]
          },
          "metadata": {
            "needs_background": "light"
          }
        },
        {
          "output_type": "display_data",
          "data": {
            "image/png": "[encoded data removed]",
            "text/plain": [
              "<Figure size 432x288 with 1 Axes>"
            ]
          },
          "metadata": {
            "needs_background": "light"
          }
        }
      ]
    },
    {
      "cell_type": "markdown",
      "metadata": {
        "id": "xwtL00Tp5xBM"
      },
      "source": [
        "Resnet Identity Function"
      ]
    },
    {
      "cell_type": "code",
      "metadata": {
        "id": "oVisy_wo5sib"
      },
      "source": [
        "def resnet(pretrained = False):\n",
        "  resnet1=torchvision.models.resnet18(pretrained=pretrained)\n",
        "  return(resnet1)\n",
        "class Identity(nn.Module):\n",
        "    def __init__(self):\n",
        "        super(Identity, self).__init__()\n",
        "\n",
        "    def forward(self, x):\n",
        "        return x"
      ],
      "execution_count": 22,
      "outputs": []
    },
    {
      "cell_type": "markdown",
      "metadata": {
        "id": "og7LAdPA59m-"
      },
      "source": [
        "SIMCLR Forward Propagation with Projection head"
      ]
    },
    {
      "cell_type": "code",
      "metadata": {
        "id": "hQ0tY3sh5zfB"
      },
      "source": [
        "class SimCLR(nn.Module):\n",
        "    \"\"\"\n",
        "    We opt for simplicity and adopt the commonly used ResNet (He et al., 2016) to obtain hi = f(x ̃i) = ResNet(x ̃i) where hi ∈ Rd is the output after the average pooling layer.\n",
        "    \"\"\"\n",
        "\n",
        "    def __init__(self, encoder, projection_dim, n_features):\n",
        "        super(SimCLR, self).__init__()\n",
        "\n",
        "        self.encoder = encoder\n",
        "        self.n_features = n_features\n",
        "\n",
        "        # Replace the fc layer with an Identity function\n",
        "        self.encoder.fc = Identity()\n",
        "\n",
        "        # We use a MLP with one hidden layer to obtain z_i = g(h_i) = W(2)σ(W(1)h_i) where σ is a ReLU non-linearity.\n",
        "        self.projector = nn.Sequential(\n",
        "            nn.Linear(self.n_features, self.n_features, bias=False),\n",
        "            nn.BatchNorm1d(num_features=512),\n",
        "            nn.ReLU(),\n",
        "            nn.Linear(self.n_features, projection_dim, bias=False),\n",
        "            nn.BatchNorm1d(num_features=512)\n",
        "        )\n",
        "\n",
        "    def forward(self, x_i, x_j):\n",
        "        h_i = self.encoder(x_i)\n",
        "        h_j = self.encoder(x_j)\n",
        "\n",
        "        z_i = self.projector(h_i)\n",
        "        z_j = self.projector(h_j)\n",
        "        return h_i, h_j, z_i, z_j"
      ],
      "execution_count": 23,
      "outputs": []
    },
    {
      "cell_type": "markdown",
      "metadata": {
        "id": "mjySK-Hl6Gky"
      },
      "source": [
        "SIMCLR Training "
      ]
    },
    {
      "cell_type": "code",
      "metadata": {
        "id": "cY3zT67W6BjK"
      },
      "source": [
        "def train(train_loader, model, criterion, optimizer):\n",
        "    loss_epoch = 0\n",
        "    for step, ((x_i, x_j), _) in enumerate(train_loader):\n",
        "        optimizer.zero_grad()\n",
        "        x_i = x_i.cuda(non_blocking=True)\n",
        "        x_j = x_j.cuda(non_blocking=True)\n",
        "\n",
        "        # positive pair, with encoding\n",
        "        h_i, h_j, z_i, z_j = model(x_i, x_j)\n",
        "\n",
        "        loss = criterion(z_i, z_j)\n",
        "        loss.backward()\n",
        "\n",
        "        optimizer.step()\n",
        "\n",
        "        loss_epoch += loss.item()\n",
        "    return loss_epoch\n"
      ],
      "execution_count": 24,
      "outputs": []
    },
    {
      "cell_type": "markdown",
      "metadata": {
        "id": "XKqQsYqY6N6s"
      },
      "source": [
        "Main() for pretraining Resnet"
      ]
    },
    {
      "cell_type": "code",
      "metadata": {
        "colab": {
          "base_uri": "https://localhost:8080/",
          "height": 35
        },
        "id": "7WeAxZtt6M5L",
        "outputId": "650290c3-455f-4d48-deb7-55943ce19d53"
      },
      "source": [
        "from torchsummary import summary\n",
        "encoder = resnet(pretrained=False)\n",
        "n_features = encoder.fc.in_features  # get dimensions of fc layer\n",
        "projection_dim=512       #change projection dimension here.\n",
        "simclr_model = SimCLR(encoder, projection_dim, n_features).cuda()\n",
        "optimizer = torch.optim.Adam(simclr_model.parameters(), lr=3e-4)\n",
        "scheduler = None\n",
        "batch_size=64   #change batch size here\n",
        "temperature= 9   #change temperature here\n",
        "criterion = SimCLR_Loss(batch_size, temperature)\n",
        "num_epochs = 5\n",
        "#summary(simclr_model,[(3,32,32),(3,32,32)])\n",
        "#exit()\n",
        "for epoch in range(1, num_epochs):\n",
        "  lr = optimizer.param_groups[0][\"lr\"]\n",
        "  loss_epoch = train(train_loader, simclr_model, criterion, optimizer)\n",
        "simclr_model.eval();\n",
        "        \n",
        "\n",
        "'''if args.nr == 0 and epoch % 10 == 0:\n",
        "save_model(args, model, optimizer) ''' #saving model\n"
      ],
      "execution_count": 31,
      "outputs": [
        {
          "output_type": "execute_result",
          "data": {
            "application/vnd.google.colaboratory.intrinsic+json": {
              "type": "string"
            },
            "text/plain": [
              "'if args.nr == 0 and epoch % 10 == 0:\\nsave_model(args, model, optimizer) '"
            ]
          },
          "metadata": {},
          "execution_count": 31
        }
      ]
    },
    {
      "cell_type": "code",
      "metadata": {
        "id": "OM70U38b9L6O"
      },
      "source": [
        ""
      ],
      "execution_count": 25,
      "outputs": []
    },
    {
      "cell_type": "markdown",
      "metadata": {
        "id": "16MLcAPc3mY0"
      },
      "source": [
        "TSNE Plot for original and encoded data"
      ]
    },
    {
      "cell_type": "code",
      "metadata": {
        "colab": {
          "base_uri": "https://localhost:8080/",
          "height": 615
        },
        "id": "GRwdRWKk-yhO",
        "outputId": "7cb6b8ec-289f-4abc-a3a6-34500023ee79"
      },
      "source": [
        "#original data\n",
        "data=[];\n",
        "label=[]\n",
        "data_enc=[]\n",
        "cnt=0\n",
        "for step, ((x_i,_),gt_i) in enumerate(test_loader):\n",
        "  \n",
        "  for sp1,x in enumerate(x_i):\n",
        "    x=np.array(x).reshape((32*32*3));\n",
        "    data.append(np.array(x))\n",
        "  x_i = x_i.cuda(non_blocking=True)\n",
        "  h_i,_,z_i,_=simclr_model(x_i,x_i)\n",
        "  h_i=h_i.cpu().detach().numpy()\n",
        "  for sp1,x in enumerate(h_i):\n",
        "    data_enc.append(x)\n",
        "  for sp1,x in enumerate(gt_i):\n",
        "    label.append(x)\n",
        "  cnt+=64;\n",
        "  if(cnt>300):\n",
        "    break;\n",
        "\n",
        "data=np.array(data);\n",
        "label=np.array(label)\n",
        "md=TSNE(random_state=0)\n",
        "data=md.fit_transform(data)\n",
        "data_enc=md.fit_transform(data_enc)\n",
        "print(np.shape(data))\n",
        "print(np.shape(label))\n",
        "import seaborn as sns\n",
        "print(np.shape(data[:,0]))\n",
        "print(np.shape(data[:1]))\n",
        "plt.scatter(x=data[:,0],y=data[:,1],c=label)\n",
        "plt.figure()\n",
        "plt.scatter(x=data_enc[:,0],y=data_enc[:,1],c=label)\n",
        "plt.figure()"
      ],
      "execution_count": 32,
      "outputs": [
        {
          "output_type": "stream",
          "name": "stdout",
          "text": [
            "(320, 2)\n",
            "(320,)\n",
            "(320,)\n",
            "(1, 2)\n"
          ]
        },
        {
          "output_type": "execute_result",
          "data": {
            "text/plain": [
              "<Figure size 432x288 with 0 Axes>"
            ]
          },
          "metadata": {},
          "execution_count": 32
        },
        {
          "output_type": "display_data",
          "data": {
            "image/png": "[encoded data removed]",
            "text/plain": [
              "<Figure size 432x288 with 1 Axes>"
            ]
          },
          "metadata": {
            "needs_background": "light"
          }
        },
        {
          "output_type": "display_data",
          "data": {
            "image/png": "[encoded data removed]",
            "text/plain": [
              "<Figure size 432x288 with 1 Axes>"
            ]
          },
          "metadata": {
            "needs_background": "light"
          }
        },
        {
          "output_type": "display_data",
          "data": {
            "text/plain": [
              "<Figure size 432x288 with 0 Axes>"
            ]
          },
          "metadata": {}
        }
      ]
    },
    {
      "cell_type": "code",
      "metadata": {
        "id": "IpZqJ7HpHR4u"
      },
      "source": [
        ""
      ],
      "execution_count": 26,
      "outputs": []
    },
    {
      "cell_type": "code",
      "metadata": {
        "colab": {
          "base_uri": "https://localhost:8080/"
        },
        "id": "Tkg_wBaHAbFq",
        "outputId": "ab1fd471-36cd-4a8f-a7dd-89bad8b37e5f"
      },
      "source": [
        "X = np.array([[0, 0, 0], [0, 1, 1], [1, 0, 1], [1, 1, 1]])\n",
        "model = TSNE(n_components=2, random_state=0)\n",
        "model.fit_transform(X) "
      ],
      "execution_count": 33,
      "outputs": [
        {
          "output_type": "execute_result",
          "data": {
            "text/plain": [
              "array([[ 269.5624   , -124.8034   ],\n",
              "       [   1.7829943, -295.07968  ],\n",
              "       [ 220.81143  , -343.83212  ],\n",
              "       [  50.533993 ,  -76.050934 ]], dtype=float32)"
            ]
          },
          "metadata": {},
          "execution_count": 33
        }
      ]
    },
    {
      "cell_type": "markdown",
      "metadata": {
        "id": "S1UevTtk6Zl2"
      },
      "source": [
        "Logistic Regression"
      ]
    },
    {
      "cell_type": "code",
      "metadata": {
        "id": "z8UuRTc26UFl"
      },
      "source": [
        "class LogisticRegression(nn.Module):\n",
        "    def __init__(self, n_features, n_classes):\n",
        "        super(LogisticRegression, self).__init__()\n",
        "\n",
        "        self.model = nn.Linear(n_features, n_classes)\n",
        "\n",
        "    def forward(self, x):\n",
        "        return self.model(x)"
      ],
      "execution_count": 34,
      "outputs": []
    },
    {
      "cell_type": "markdown",
      "metadata": {
        "id": "maoYOXJq6fsO"
      },
      "source": [
        "Linear Classifier"
      ]
    },
    {
      "cell_type": "code",
      "metadata": {
        "id": "Q1gZaUiA6bjB",
        "colab": {
          "base_uri": "https://localhost:8080/"
        },
        "outputId": "2a4aa03d-8dab-4fb3-f151-68e504caa380"
      },
      "source": [
        "def inference(loader, simclr_model, device):\n",
        "    feature_vector = []\n",
        "    labels_vector = []\n",
        "    for step, ((x, _),y) in enumerate(loader):\n",
        "        \n",
        "        x = x.to(device)\n",
        "        \n",
        "        # get encoding\n",
        "        with torch.no_grad():\n",
        "            h, _, z, _ = simclr_model(x, x)\n",
        "\n",
        "        h = h.detach()\n",
        "\n",
        "        feature_vector.extend(h.cpu().detach().numpy())\n",
        "        labels_vector.extend(y.numpy())\n",
        "\n",
        "        if step % 20 == 0:\n",
        "            print(f\"Step [{step}/{len(loader)}]\\t Computing features...\")\n",
        "            #break\n",
        "\n",
        "    feature_vector = np.array(feature_vector)\n",
        "    labels_vector = np.array(labels_vector)\n",
        "    print(\"Features shape {}\".format(feature_vector.shape))\n",
        "    return feature_vector, labels_vector\n",
        "\n",
        "\n",
        "def get_features(simclr_model, train_loader, test_loader, device):\n",
        "    train_X, train_y = inference(train_loader, simclr_model, device)\n",
        "    test_X, test_y = inference(test_loader, simclr_model, device)\n",
        "    return train_X, train_y, test_X, test_y\n",
        "\n",
        "\n",
        "def create_data_loaders_from_arrays(X_train, y_train, X_test, y_test, batch_size):\n",
        "    train = torch.utils.data.TensorDataset(\n",
        "        torch.from_numpy(X_train), torch.from_numpy(y_train)\n",
        "    )\n",
        "    train_loader = torch.utils.data.DataLoader(\n",
        "        train, batch_size=batch_size, shuffle=False\n",
        "    )\n",
        "\n",
        "    test = torch.utils.data.TensorDataset(\n",
        "        torch.from_numpy(X_test), torch.from_numpy(y_test)\n",
        "    )\n",
        "    test_loader = torch.utils.data.DataLoader(\n",
        "        test, batch_size=batch_size, shuffle=False\n",
        "    )\n",
        "    return train_loader, test_loader\n",
        "\n",
        "device = 'cuda:0'\n",
        "def train1(loader, simclr_model, model, criterion, optimizer):\n",
        "    loss_epoch = 0\n",
        "    accuracy_epoch = 0\n",
        "    for step, (x, y) in enumerate(loader):\n",
        "        optimizer.zero_grad()\n",
        "\n",
        "        x = x.cuda()\n",
        "        y = y.cuda()\n",
        "\n",
        "        output = model(x)\n",
        "\n",
        "        #y=torch.argmax(y,dim=1)\n",
        "       \n",
        "        #print(output)\n",
        "        #print(y)\n",
        "        loss = criterion(output, y)\n",
        "\n",
        "        predicted = output.argmax(1)\n",
        "        acc = (predicted == y).sum().item() / y.size(0)\n",
        "        accuracy_epoch += acc\n",
        "\n",
        "        loss.backward()\n",
        "        optimizer.step()\n",
        "\n",
        "        loss_epoch += loss.item()\n",
        "        # if step % 100 == 0:\n",
        "        #     print(\n",
        "        #         f\"Step [{step}/{len(loader)}]\\t Loss: {loss.item()}\\t Accuracy: {acc}\"\n",
        "        #     )\n",
        "\n",
        "    return loss_epoch, accuracy_epoch\n",
        "\n",
        "\n",
        "def test(loader, simclr_model, model, criterion, optimizer):\n",
        "    loss_epoch = 0\n",
        "    accuracy_epoch = 0\n",
        "    model.eval()\n",
        "    for step, (x,y) in enumerate(loader):\n",
        "        model.zero_grad()\n",
        "\n",
        "        x = x.to(device)\n",
        "        y = y.to(device)\n",
        "        y=y.long()\n",
        "        output = model(x)\n",
        "        loss = criterion(output, y)\n",
        "\n",
        "        predicted = output.argmax(1)\n",
        "        acc = (predicted == y).sum().item() / y.size(0)\n",
        "        accuracy_epoch += acc\n",
        "\n",
        "        loss_epoch += loss.item()\n",
        "\n",
        "    return loss_epoch, accuracy_epoch\n",
        "\n",
        "n_classes = 10  # CIFAR-10 / STL-10\n",
        "model = LogisticRegression(simclr_model.n_features, n_classes)\n",
        "model = model.to(device)\n",
        "\n",
        "optimizer = torch.optim.Adam(model.parameters(), lr=3e-4)\n",
        "criterion = torch.nn.CrossEntropyLoss()\n",
        "(train_X, train_y, test_X, test_y) = get_features(\n",
        "        simclr_model, train_loader, test_loader, device\n",
        "    )\n",
        "#print(train_y);\n",
        "#exit(0)\n",
        "arr_train_loader, arr_test_loader = create_data_loaders_from_arrays(\n",
        "        train_X, train_y, test_X, test_y, batch_size\n",
        "    )\n",
        "'''for step, (x, y) in enumerate(arr_train_loader):\n",
        "  print(np.shape(x))\n",
        "  print(np.shape(y));'''\n",
        "#exit(0)\n",
        "logistic_epochs=10;\n",
        "for epoch in range(logistic_epochs):\n",
        "    loss_epoch, accuracy_epoch = train1(\n",
        "        arr_train_loader, simclr_model, model, criterion, optimizer\n",
        "        )\n",
        "print(\n",
        "            f\"Epoch [{epoch}/{logistic_epochs}]\\t Loss: {loss_epoch / len(arr_train_loader)}\\t Accuracy: {accuracy_epoch / len(arr_train_loader)}\"\n",
        ")\n",
        "\n",
        "    # final testing\n",
        "loss_epoch, accuracy_epoch = test(\n",
        "        arr_test_loader, simclr_model, model, criterion, optimizer\n",
        "    )\n",
        "print(\n",
        "   f\"[FINAL]\\t Loss: {loss_epoch / len(arr_test_loader)}\\t Accuracy: {accuracy_epoch / len(arr_test_loader)}\"\n",
        "    )"
      ],
      "execution_count": 35,
      "outputs": [
        {
          "output_type": "stream",
          "name": "stdout",
          "text": [
            "Step [0/781]\t Computing features...\n",
            "Step [20/781]\t Computing features...\n",
            "Step [40/781]\t Computing features...\n",
            "Step [60/781]\t Computing features...\n",
            "Step [80/781]\t Computing features...\n",
            "Step [100/781]\t Computing features...\n",
            "Step [120/781]\t Computing features...\n",
            "Step [140/781]\t Computing features...\n",
            "Step [160/781]\t Computing features...\n",
            "Step [180/781]\t Computing features...\n",
            "Step [200/781]\t Computing features...\n",
            "Step [220/781]\t Computing features...\n",
            "Step [240/781]\t Computing features...\n",
            "Step [260/781]\t Computing features...\n",
            "Step [280/781]\t Computing features...\n",
            "Step [300/781]\t Computing features...\n",
            "Step [320/781]\t Computing features...\n",
            "Step [340/781]\t Computing features...\n",
            "Step [360/781]\t Computing features...\n",
            "Step [380/781]\t Computing features...\n",
            "Step [400/781]\t Computing features...\n",
            "Step [420/781]\t Computing features...\n",
            "Step [440/781]\t Computing features...\n",
            "Step [460/781]\t Computing features...\n",
            "Step [480/781]\t Computing features...\n",
            "Step [500/781]\t Computing features...\n",
            "Step [520/781]\t Computing features...\n",
            "Step [540/781]\t Computing features...\n",
            "Step [560/781]\t Computing features...\n",
            "Step [580/781]\t Computing features...\n",
            "Step [600/781]\t Computing features...\n",
            "Step [620/781]\t Computing features...\n",
            "Step [640/781]\t Computing features...\n",
            "Step [660/781]\t Computing features...\n",
            "Step [680/781]\t Computing features...\n",
            "Step [700/781]\t Computing features...\n",
            "Step [720/781]\t Computing features...\n",
            "Step [740/781]\t Computing features...\n",
            "Step [760/781]\t Computing features...\n",
            "Step [780/781]\t Computing features...\n",
            "Features shape (49984, 512)\n",
            "Step [0/156]\t Computing features...\n",
            "Step [20/156]\t Computing features...\n",
            "Step [40/156]\t Computing features...\n",
            "Step [60/156]\t Computing features...\n",
            "Step [80/156]\t Computing features...\n",
            "Step [100/156]\t Computing features...\n",
            "Step [120/156]\t Computing features...\n",
            "Step [140/156]\t Computing features...\n",
            "Features shape (9984, 512)\n",
            "Epoch [9/10]\t Loss: 2.0500017181706642\t Accuracy: 0.21558898847631242\n",
            "[FINAL]\t Loss: 2.0637043599898997\t Accuracy: 0.2091346153846154\n"
          ]
        }
      ]
    },
    {
      "cell_type": "code",
      "metadata": {
        "colab": {
          "base_uri": "https://localhost:8080/"
        },
        "id": "l6vasbuPLknF",
        "outputId": "f917e39d-5328-4e37-f57b-1caed4b3a845"
      },
      "source": [
        "x=[[0,1,0,0],[1,0,0,0]]\n",
        "x=torch.Tensor(x);\n",
        "x=torch.argmax(x,dim=1)\n",
        "print(x)\n"
      ],
      "execution_count": 30,
      "outputs": [
        {
          "output_type": "stream",
          "name": "stdout",
          "text": [
            "tensor([1, 0])\n"
          ]
        }
      ]
    }
  ]
}