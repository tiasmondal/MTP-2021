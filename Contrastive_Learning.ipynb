{
  "nbformat": 4,
  "nbformat_minor": 0,
  "metadata": {
    "colab": {
      "name": "Contrastive_Learning.ipynb",
      "provenance": [],
      "collapsed_sections": [],
      "authorship_tag": "ABX9TyORt+p/AqbsrH8RG5EVPlq9",
      "include_colab_link": true
    },
    "kernelspec": {
      "name": "python3",
      "display_name": "Python 3"
    },
    "language_info": {
      "name": "python"
    },
    "widgets": {
      "application/vnd.jupyter.widget-state+json": {
        "60fc6f625d4a475483d7fc9c764716fe": {
          "model_module": "@jupyter-widgets/controls",
          "model_name": "HBoxModel",
          "model_module_version": "1.5.0",
          "state": {
            "_view_name": "HBoxView",
            "_dom_classes": [],
            "_model_name": "HBoxModel",
            "_view_module": "@jupyter-widgets/controls",
            "_model_module_version": "1.5.0",
            "_view_count": null,
            "_view_module_version": "1.5.0",
            "box_style": "",
            "layout": "IPY_MODEL_de929486f13c4880bbe0777aa4b91ece",
            "_model_module": "@jupyter-widgets/controls",
            "children": [
              "IPY_MODEL_e8bda0c1465a444e8c1308ad95bb744e",
              "IPY_MODEL_b654fffe25b140ccb9095eb511fc0b66",
              "IPY_MODEL_3f7d534a86974595aa1153ea4ffa7060"
            ]
          }
        },
        "de929486f13c4880bbe0777aa4b91ece": {
          "model_module": "@jupyter-widgets/base",
          "model_name": "LayoutModel",
          "model_module_version": "1.2.0",
          "state": {
            "_view_name": "LayoutView",
            "grid_template_rows": null,
            "right": null,
            "justify_content": null,
            "_view_module": "@jupyter-widgets/base",
            "overflow": null,
            "_model_module_version": "1.2.0",
            "_view_count": null,
            "flex_flow": null,
            "width": null,
            "min_width": null,
            "border": null,
            "align_items": null,
            "bottom": null,
            "_model_module": "@jupyter-widgets/base",
            "top": null,
            "grid_column": null,
            "overflow_y": null,
            "overflow_x": null,
            "grid_auto_flow": null,
            "grid_area": null,
            "grid_template_columns": null,
            "flex": null,
            "_model_name": "LayoutModel",
            "justify_items": null,
            "grid_row": null,
            "max_height": null,
            "align_content": null,
            "visibility": null,
            "align_self": null,
            "height": null,
            "min_height": null,
            "padding": null,
            "grid_auto_rows": null,
            "grid_gap": null,
            "max_width": null,
            "order": null,
            "_view_module_version": "1.2.0",
            "grid_template_areas": null,
            "object_position": null,
            "object_fit": null,
            "grid_auto_columns": null,
            "margin": null,
            "display": null,
            "left": null
          }
        },
        "e8bda0c1465a444e8c1308ad95bb744e": {
          "model_module": "@jupyter-widgets/controls",
          "model_name": "HTMLModel",
          "model_module_version": "1.5.0",
          "state": {
            "_view_name": "HTMLView",
            "style": "IPY_MODEL_eed8e30674144071a45798a7561a2c17",
            "_dom_classes": [],
            "description": "",
            "_model_name": "HTMLModel",
            "placeholder": "​",
            "_view_module": "@jupyter-widgets/controls",
            "_model_module_version": "1.5.0",
            "value": "",
            "_view_count": null,
            "_view_module_version": "1.5.0",
            "description_tooltip": null,
            "_model_module": "@jupyter-widgets/controls",
            "layout": "IPY_MODEL_7bb999cb47754315b22523a66eee3bf0"
          }
        },
        "b654fffe25b140ccb9095eb511fc0b66": {
          "model_module": "@jupyter-widgets/controls",
          "model_name": "FloatProgressModel",
          "model_module_version": "1.5.0",
          "state": {
            "_view_name": "ProgressView",
            "style": "IPY_MODEL_4de76200053e483796bf24cf0a118a5b",
            "_dom_classes": [],
            "description": "",
            "_model_name": "FloatProgressModel",
            "bar_style": "success",
            "max": 170498071,
            "_view_module": "@jupyter-widgets/controls",
            "_model_module_version": "1.5.0",
            "value": 170498071,
            "_view_count": null,
            "_view_module_version": "1.5.0",
            "orientation": "horizontal",
            "min": 0,
            "description_tooltip": null,
            "_model_module": "@jupyter-widgets/controls",
            "layout": "IPY_MODEL_69788983c51e4e539e95d3dea70f7697"
          }
        },
        "3f7d534a86974595aa1153ea4ffa7060": {
          "model_module": "@jupyter-widgets/controls",
          "model_name": "HTMLModel",
          "model_module_version": "1.5.0",
          "state": {
            "_view_name": "HTMLView",
            "style": "IPY_MODEL_b1ff0324b35f412e884fdd3e298d1f7c",
            "_dom_classes": [],
            "description": "",
            "_model_name": "HTMLModel",
            "placeholder": "​",
            "_view_module": "@jupyter-widgets/controls",
            "_model_module_version": "1.5.0",
            "value": " 170499072/? [00:03&lt;00:00, 56690393.67it/s]",
            "_view_count": null,
            "_view_module_version": "1.5.0",
            "description_tooltip": null,
            "_model_module": "@jupyter-widgets/controls",
            "layout": "IPY_MODEL_ed115e58d2c3461aa9e4e6022de8cc0e"
          }
        },
        "eed8e30674144071a45798a7561a2c17": {
          "model_module": "@jupyter-widgets/controls",
          "model_name": "DescriptionStyleModel",
          "model_module_version": "1.5.0",
          "state": {
            "_view_name": "StyleView",
            "_model_name": "DescriptionStyleModel",
            "description_width": "",
            "_view_module": "@jupyter-widgets/base",
            "_model_module_version": "1.5.0",
            "_view_count": null,
            "_view_module_version": "1.2.0",
            "_model_module": "@jupyter-widgets/controls"
          }
        },
        "7bb999cb47754315b22523a66eee3bf0": {
          "model_module": "@jupyter-widgets/base",
          "model_name": "LayoutModel",
          "model_module_version": "1.2.0",
          "state": {
            "_view_name": "LayoutView",
            "grid_template_rows": null,
            "right": null,
            "justify_content": null,
            "_view_module": "@jupyter-widgets/base",
            "overflow": null,
            "_model_module_version": "1.2.0",
            "_view_count": null,
            "flex_flow": null,
            "width": null,
            "min_width": null,
            "border": null,
            "align_items": null,
            "bottom": null,
            "_model_module": "@jupyter-widgets/base",
            "top": null,
            "grid_column": null,
            "overflow_y": null,
            "overflow_x": null,
            "grid_auto_flow": null,
            "grid_area": null,
            "grid_template_columns": null,
            "flex": null,
            "_model_name": "LayoutModel",
            "justify_items": null,
            "grid_row": null,
            "max_height": null,
            "align_content": null,
            "visibility": null,
            "align_self": null,
            "height": null,
            "min_height": null,
            "padding": null,
            "grid_auto_rows": null,
            "grid_gap": null,
            "max_width": null,
            "order": null,
            "_view_module_version": "1.2.0",
            "grid_template_areas": null,
            "object_position": null,
            "object_fit": null,
            "grid_auto_columns": null,
            "margin": null,
            "display": null,
            "left": null
          }
        },
        "4de76200053e483796bf24cf0a118a5b": {
          "model_module": "@jupyter-widgets/controls",
          "model_name": "ProgressStyleModel",
          "model_module_version": "1.5.0",
          "state": {
            "_view_name": "StyleView",
            "_model_name": "ProgressStyleModel",
            "description_width": "",
            "_view_module": "@jupyter-widgets/base",
            "_model_module_version": "1.5.0",
            "_view_count": null,
            "_view_module_version": "1.2.0",
            "bar_color": null,
            "_model_module": "@jupyter-widgets/controls"
          }
        },
        "69788983c51e4e539e95d3dea70f7697": {
          "model_module": "@jupyter-widgets/base",
          "model_name": "LayoutModel",
          "model_module_version": "1.2.0",
          "state": {
            "_view_name": "LayoutView",
            "grid_template_rows": null,
            "right": null,
            "justify_content": null,
            "_view_module": "@jupyter-widgets/base",
            "overflow": null,
            "_model_module_version": "1.2.0",
            "_view_count": null,
            "flex_flow": null,
            "width": null,
            "min_width": null,
            "border": null,
            "align_items": null,
            "bottom": null,
            "_model_module": "@jupyter-widgets/base",
            "top": null,
            "grid_column": null,
            "overflow_y": null,
            "overflow_x": null,
            "grid_auto_flow": null,
            "grid_area": null,
            "grid_template_columns": null,
            "flex": null,
            "_model_name": "LayoutModel",
            "justify_items": null,
            "grid_row": null,
            "max_height": null,
            "align_content": null,
            "visibility": null,
            "align_self": null,
            "height": null,
            "min_height": null,
            "padding": null,
            "grid_auto_rows": null,
            "grid_gap": null,
            "max_width": null,
            "order": null,
            "_view_module_version": "1.2.0",
            "grid_template_areas": null,
            "object_position": null,
            "object_fit": null,
            "grid_auto_columns": null,
            "margin": null,
            "display": null,
            "left": null
          }
        },
        "b1ff0324b35f412e884fdd3e298d1f7c": {
          "model_module": "@jupyter-widgets/controls",
          "model_name": "DescriptionStyleModel",
          "model_module_version": "1.5.0",
          "state": {
            "_view_name": "StyleView",
            "_model_name": "DescriptionStyleModel",
            "description_width": "",
            "_view_module": "@jupyter-widgets/base",
            "_model_module_version": "1.5.0",
            "_view_count": null,
            "_view_module_version": "1.2.0",
            "_model_module": "@jupyter-widgets/controls"
          }
        },
        "ed115e58d2c3461aa9e4e6022de8cc0e": {
          "model_module": "@jupyter-widgets/base",
          "model_name": "LayoutModel",
          "model_module_version": "1.2.0",
          "state": {
            "_view_name": "LayoutView",
            "grid_template_rows": null,
            "right": null,
            "justify_content": null,
            "_view_module": "@jupyter-widgets/base",
            "overflow": null,
            "_model_module_version": "1.2.0",
            "_view_count": null,
            "flex_flow": null,
            "width": null,
            "min_width": null,
            "border": null,
            "align_items": null,
            "bottom": null,
            "_model_module": "@jupyter-widgets/base",
            "top": null,
            "grid_column": null,
            "overflow_y": null,
            "overflow_x": null,
            "grid_auto_flow": null,
            "grid_area": null,
            "grid_template_columns": null,
            "flex": null,
            "_model_name": "LayoutModel",
            "justify_items": null,
            "grid_row": null,
            "max_height": null,
            "align_content": null,
            "visibility": null,
            "align_self": null,
            "height": null,
            "min_height": null,
            "padding": null,
            "grid_auto_rows": null,
            "grid_gap": null,
            "max_width": null,
            "order": null,
            "_view_module_version": "1.2.0",
            "grid_template_areas": null,
            "object_position": null,
            "object_fit": null,
            "grid_auto_columns": null,
            "margin": null,
            "display": null,
            "left": null
          }
        }
      }
    },
    "accelerator": "GPU"
  },
  "cells": [
    {
      "cell_type": "markdown",
      "metadata": {
        "id": "view-in-github",
        "colab_type": "text"
      },
      "source": [
        "<a href=\"https://colab.research.google.com/github/tiasmondal/MTP-2021/blob/main/Contrastive_Learning.ipynb\" target=\"_parent\"><img src=\"https://colab.research.google.com/assets/colab-badge.svg\" alt=\"Open In Colab\"/></a>"
      ]
    },
    {
      "cell_type": "code",
      "metadata": {
        "colab": {
          "base_uri": "https://localhost:8080/"
        },
        "id": "pHxbhJKh42sw",
        "outputId": "896e501b-28be-4b9a-8418-33af996163d5"
      },
      "source": [
        "from google.colab import drive\n",
        "drive.mount('/content/drive')"
      ],
      "execution_count": 1,
      "outputs": [
        {
          "output_type": "stream",
          "name": "stdout",
          "text": [
            "Mounted at /content/drive\n"
          ]
        }
      ]
    },
    {
      "cell_type": "code",
      "metadata": {
        "id": "NBTJAVXI47Mh"
      },
      "source": [
        "import tensorflow as tf\n",
        "#import tensorflow_addons as tfa\n",
        "import numpy as np\n",
        "import torchvision\n",
        "from tensorflow import keras\n",
        "from tensorflow.keras import layers\n",
        "import torch\n",
        "import torch.nn as nn\n",
        "from sklearn.manifold import TSNE"
      ],
      "execution_count": 2,
      "outputs": []
    },
    {
      "cell_type": "code",
      "metadata": {
        "colab": {
          "base_uri": "https://localhost:8080/"
        },
        "id": "gGVlMuX_XlIJ",
        "outputId": "39cd5caa-2ae1-49a4-9645-c7f3ce9da5b7"
      },
      "source": [
        "!nvidia-smi"
      ],
      "execution_count": 3,
      "outputs": [
        {
          "output_type": "stream",
          "name": "stdout",
          "text": [
            "Tue Sep 21 16:14:09 2021       \n",
            "+-----------------------------------------------------------------------------+\n",
            "| NVIDIA-SMI 470.63.01    Driver Version: 460.32.03    CUDA Version: 11.2     |\n",
            "|-------------------------------+----------------------+----------------------+\n",
            "| GPU  Name        Persistence-M| Bus-Id        Disp.A | Volatile Uncorr. ECC |\n",
            "| Fan  Temp  Perf  Pwr:Usage/Cap|         Memory-Usage | GPU-Util  Compute M. |\n",
            "|                               |                      |               MIG M. |\n",
            "|===============================+======================+======================|\n",
            "|   0  Tesla K80           Off  | 00000000:00:04.0 Off |                    0 |\n",
            "| N/A   37C    P8    27W / 149W |      0MiB / 11441MiB |      0%      Default |\n",
            "|                               |                      |                  N/A |\n",
            "+-------------------------------+----------------------+----------------------+\n",
            "                                                                               \n",
            "+-----------------------------------------------------------------------------+\n",
            "| Processes:                                                                  |\n",
            "|  GPU   GI   CI        PID   Type   Process name                  GPU Memory |\n",
            "|        ID   ID                                                   Usage      |\n",
            "|=============================================================================|\n",
            "|  No running processes found                                                 |\n",
            "+-----------------------------------------------------------------------------+\n"
          ]
        }
      ]
    },
    {
      "cell_type": "code",
      "metadata": {
        "colab": {
          "base_uri": "https://localhost:8080/"
        },
        "id": "9uJXBaCwmX2v",
        "outputId": "9976eee7-f5da-42cd-b05d-961a47eb253b"
      },
      "source": [
        "\n",
        "input1 = torch.randn(4,1)\n",
        "input2 = torch.randn(4,1)\n",
        "print(input1)\n",
        "print(input2)\n",
        "output = torch.cdist(input1, input2,p=32)\n",
        "print(output)"
      ],
      "execution_count": 3,
      "outputs": [
        {
          "output_type": "stream",
          "name": "stdout",
          "text": [
            "tensor([[-0.0225],\n",
            "        [ 0.9166],\n",
            "        [ 1.1826],\n",
            "        [ 0.0620]])\n",
            "tensor([[-0.0252],\n",
            "        [-0.8546],\n",
            "        [-0.1529],\n",
            "        [-0.3555]])\n",
            "tensor([[0.0000, 0.8320, 0.1303, 0.3329],\n",
            "        [0.9418, 1.7712, 1.0694, 1.2720],\n",
            "        [1.2077, 2.0371, 1.3354, 1.5380],\n",
            "        [0.0872, 0.9166, 0.2149, 0.4175]])\n"
          ]
        }
      ]
    },
    {
      "cell_type": "markdown",
      "metadata": {
        "id": "pkfosFDQ5o9f"
      },
      "source": [
        "SIMCLR LOSS"
      ]
    },
    {
      "cell_type": "code",
      "metadata": {
        "colab": {
          "base_uri": "https://localhost:8080/"
        },
        "id": "eqMdsPJz49Io",
        "outputId": "74196d16-7f39-4539-ee0f-a11f1c91f0cc"
      },
      "source": [
        "class SimCLR_Loss(nn.Module):\n",
        "    def __init__(self, batch_size, temperature):\n",
        "        super(SimCLR_Loss, self).__init__()\n",
        "        self.batch_size = batch_size\n",
        "        self.temperature = temperature\n",
        "        self.mask = self.mask_correlated_samples(batch_size)\n",
        "        self.criterion = nn.CrossEntropyLoss(reduction=\"sum\")\n",
        "        self.similarity_f = nn.CosineSimilarity(dim=2)\n",
        "    \n",
        "\n",
        "    def mask_correlated_samples(self, batch_size):\n",
        "        N = 2 * batch_size\n",
        "        mask = torch.ones((N, N), dtype=bool)\n",
        "        mask = mask.fill_diagonal_(0)\n",
        "        for i in range(batch_size):\n",
        "            mask[i, batch_size + i] = 0\n",
        "            mask[batch_size + i, i] = 0\n",
        "        return mask\n",
        "    def lploss(self, z_i,z_j,p):\n",
        "      diff=z_i-z_j\n",
        "      v=torch.pow(diff,p)\n",
        "      return(torch.sum(v))\n",
        "    def forward(self, z_i, z_j):\n",
        "        \"\"\"\n",
        "        We do not sample negative examples explicitly.\n",
        "        Instead, given a positive pair, similar to (Chen et al., 2017), we treat the other 2(N − 1) augmented examples within a minibatch as negative examples.\n",
        "        \"\"\"\n",
        "        N = 2 * self.batch_size #* self.world_size\n",
        "        #z_i_ = z_i / torch.sqrt(torch.sum(torch.square(z_i),dim = 1, keepdim = True))\n",
        "        #z_j_ = z_j / torch.sqrt(torch.sum(torch.square(z_j),dim = 1, keepdim = True))\n",
        "        z = torch.cat((z_i, z_j), dim=0)\n",
        "        #print(z);    #Print for understanding\n",
        "        z=z.float(); \n",
        "        sim = self.similarity_f(z.unsqueeze(1), z.unsqueeze(0)) / self.temperature   #for cosine similarity\n",
        "        \n",
        "        #print(sim);              #Print for understanding\n",
        "        sim_i_j = torch.diag(sim, self.batch_size)\n",
        "        sim_j_i = torch.diag(sim, -self.batch_size)\n",
        "        #print(self.mask)               #Print for understanding\n",
        "        # We have 2N samples, but with Distributed training every GPU gets N examples too, resulting in: 2xNxN\n",
        "        positive_samples = torch.cat((sim_i_j, sim_j_i), dim=0).reshape(N, 1)\n",
        "        #print(positive_samples)         #Print for understanding\n",
        "        negative_samples = sim[self.mask].reshape(N, -1)\n",
        "        #print(negative_samples)         #Print for understanding\n",
        "        #SIMCLR\n",
        "        labels = torch.from_numpy(np.array([0]*N)).reshape(-1).to(positive_samples.device).long() #.float()\n",
        "        #print(np.array([1]*N).reshape(-1))    #Print for understanding\n",
        "        #labels was torch.zeros(N)\n",
        "        logits = torch.cat((positive_samples, negative_samples), dim=1)\n",
        "        #print(logits)                        #Print for understanding\n",
        "        loss = self.criterion(logits, labels)\n",
        "        loss /= N\n",
        "\n",
        "        return loss\n",
        "\n",
        "\n",
        "\n",
        "num_classes = 10\n",
        "input_shape = (32, 32, 3)\n",
        "\n",
        "# Load the train and test data splits\n",
        "(x_train, y_train), (x_test, y_test) = keras.datasets.cifar10.load_data()\n",
        "\n",
        "# Display shapes of train and test datasets\n",
        "print(f\"x_train shape: {x_train.shape} - y_train shape: {y_train.shape}\")\n",
        "print(f\"x_test shape: {x_test.shape} - y_test shape: {y_test.shape}\")\n",
        "X=SimCLR_Loss(2,1)\n",
        "\n",
        "X.forward(torch.randn( 2, 2),torch.randn(2, 2))"
      ],
      "execution_count": 4,
      "outputs": [
        {
          "output_type": "stream",
          "name": "stdout",
          "text": [
            "Downloading data from https://www.cs.toronto.edu/~kriz/cifar-10-python.tar.gz\n",
            "170500096/170498071 [==============================] - 2s 0us/step\n",
            "170508288/170498071 [==============================] - 2s 0us/step\n",
            "x_train shape: (50000, 32, 32, 3) - y_train shape: (50000, 1)\n",
            "x_test shape: (10000, 32, 32, 3) - y_test shape: (10000, 1)\n"
          ]
        },
        {
          "output_type": "execute_result",
          "data": {
            "text/plain": [
              "tensor(1.2466)"
            ]
          },
          "metadata": {},
          "execution_count": 4
        }
      ]
    },
    {
      "cell_type": "code",
      "metadata": {
        "colab": {
          "base_uri": "https://localhost:8080/"
        },
        "id": "_G9cZgcqoOOF",
        "outputId": "1eee4557-5aec-4d0d-c4f5-2e74f2a5c6f9"
      },
      "source": [
        "class SimCLR_LossLp1(nn.Module):\n",
        "    def __init__(self, batch_size, temperature):\n",
        "        super(SimCLR_LossLp1, self).__init__()\n",
        "        self.batch_size = batch_size\n",
        "        self.temperature = temperature\n",
        "        self.mask = self.mask_correlated_samples(batch_size)\n",
        "        self.criterion = nn.CrossEntropyLoss(reduction=\"sum\")\n",
        "        self.similarity_f = nn.CosineSimilarity(dim=2)\n",
        "    \n",
        "\n",
        "    def mask_correlated_samples(self, batch_size):\n",
        "        N = 2 * batch_size\n",
        "        mask = torch.ones((N, N), dtype=bool)\n",
        "        mask = mask.fill_diagonal_(0)\n",
        "        for i in range(batch_size):\n",
        "            mask[i, batch_size + i] = 0\n",
        "            mask[batch_size + i, i] = 0\n",
        "        return mask\n",
        "    def lploss(self, z_i,z_j,p):\n",
        "      diff=z_i-z_j\n",
        "      v=torch.pow(diff,p)\n",
        "      return(torch.sum(v))\n",
        "    def forward(self, z_i, z_j):\n",
        "        \"\"\"\n",
        "        We do not sample negative examples explicitly.\n",
        "        Instead, given a positive pair, similar to (Chen et al., 2017), we treat the other 2(N − 1) augmented examples within a minibatch as negative examples.\n",
        "        \"\"\"\n",
        "        N = 2 * self.batch_size #* self.world_size\n",
        "        #z_i_ = z_i / torch.sqrt(torch.sum(torch.square(z_i),dim = 1, keepdim = True))\n",
        "        #z_j_ = z_j / torch.sqrt(torch.sum(torch.square(z_j),dim = 1, keepdim = True))\n",
        "        z = torch.cat((z_i, z_j), dim=0)\n",
        "        #print(z);    #Print for understanding\n",
        "        z=z.float(); \n",
        "        sim = torch.cdist(z.unsqueeze(1), z.unsqueeze(0),p=32)/self.temperature   #for cosine similarity\n",
        "        sim=sim.reshape(N,N);\n",
        "        #print(np.shape(z1))\n",
        "        #sim = self.similarity_f(z.unsqueeze(1), z.unsqueeze(0)) / self.temperature\n",
        "        #print(np.shape(sim))\n",
        "        #print(sim);              #Print for understanding\n",
        "        sim_i_j = torch.diag(sim, self.batch_size)\n",
        "        sim_j_i = torch.diag(sim, -self.batch_size)\n",
        "        #print(self.mask)               #Print for understanding\n",
        "        # We have 2N samples, but with Distributed training every GPU gets N examples too, resulting in: 2xNxN\n",
        "        positive_samples = torch.cat((sim_i_j, sim_j_i), dim=0).reshape(N, 1)\n",
        "        #print(positive_samples)         #Print for understanding\n",
        "        negative_samples = sim[self.mask].reshape(N, -1)\n",
        "        #print(negative_samples)         #Print for understanding\n",
        "        #SIMCLR\n",
        "        labels = torch.from_numpy(np.array([0]*N)).reshape(-1).to(positive_samples.device).long() #.float()\n",
        "        #print(np.array([1]*N).reshape(-1))    #Print for understanding\n",
        "        #labels was torch.zeros(N)\n",
        "        logits = torch.cat((positive_samples, negative_samples), dim=1)\n",
        "        #print(logits)                        #Print for understanding\n",
        "        loss = self.criterion(logits, labels)\n",
        "        loss /= N\n",
        "\n",
        "        return loss\n",
        "\n",
        "\n",
        "\n",
        "num_classes = 10\n",
        "input_shape = (32, 32, 3)\n",
        "\n",
        "# Load the train and test data splits\n",
        "(x_train, y_train), (x_test, y_test) = keras.datasets.cifar10.load_data()\n",
        "\n",
        "# Display shapes of train and test datasets\n",
        "print(f\"x_train shape: {x_train.shape} - y_train shape: {y_train.shape}\")\n",
        "print(f\"x_test shape: {x_test.shape} - y_test shape: {y_test.shape}\")\n",
        "X=SimCLR_Loss(2,1)\n",
        "\n",
        "X.forward(torch.randn( 2, 2),torch.randn(2, 2))"
      ],
      "execution_count": 30,
      "outputs": [
        {
          "output_type": "stream",
          "name": "stdout",
          "text": [
            "x_train shape: (50000, 32, 32, 3) - y_train shape: (50000, 1)\n",
            "x_test shape: (10000, 32, 32, 3) - y_test shape: (10000, 1)\n"
          ]
        },
        {
          "output_type": "execute_result",
          "data": {
            "text/plain": [
              "tensor(1.2126)"
            ]
          },
          "metadata": {},
          "execution_count": 30
        }
      ]
    },
    {
      "cell_type": "markdown",
      "metadata": {
        "id": "4KJ7_Eg7Pt-7"
      },
      "source": [
        "Attempting Lp loss [Experiment]"
      ]
    },
    {
      "cell_type": "code",
      "metadata": {
        "colab": {
          "base_uri": "https://localhost:8080/"
        },
        "id": "G5Kks9YWPtRP",
        "outputId": "8fafb164-a7b7-4648-9066-f462e4c74d39"
      },
      "source": [
        "class SimCLR_LossLp(nn.Module):\n",
        "    def __init__(self, batch_size, temperature,p):\n",
        "        super(SimCLR_LossLp, self).__init__()\n",
        "        self.batch_size = batch_size\n",
        "        self.temperature = temperature\n",
        "        self.p=p\n",
        "        self.mask = self.mask_correlated_samples(batch_size)\n",
        "        self.criterion = nn.CrossEntropyLoss(reduction=\"sum\")\n",
        "    \n",
        "    def computelploss(self,x,y):\n",
        "      return(torch.sum(torch.pow(x-y,self.p))/self.temperature)\n",
        "    def Lploss(self,z_i,z_j):\n",
        "      pos=torch.tensor([]).cuda();\n",
        "      neg=torch.tensor([]).cuda();\n",
        "      for i in range(0,self.batch_size):\n",
        "        neg2=torch.tensor([]).cuda();\n",
        "        for j in range(0,self.batch_size):\n",
        "          x=self.computelploss(z_i[i],z_j[j]).reshape((1,)).cuda()\n",
        "          if(i==j):\n",
        "            pos=torch.cat((pos,x),dim=0)\n",
        "          else:\n",
        "            neg2=torch.cat((neg2,x),dim=0)\n",
        "        neg=torch.cat((neg,neg2),dim=0)\n",
        "      for i in range(0,self.batch_size):\n",
        "        neg2=torch.tensor([]).cuda();\n",
        "        for j in range(0,self.batch_size):\n",
        "          x=self.computelploss(z_j[i],z_i[j]).reshape((1,)).cuda()\n",
        "          if(i==j):\n",
        "            pos=torch.cat((pos,x),dim=0)\n",
        "          else:\n",
        "            neg2=torch.cat((neg2,x),dim=0)\n",
        "        neg=torch.cat((neg,neg2),dim=0)\n",
        "        \n",
        "      N = 2*self.batch_size\n",
        "      neg=neg.reshape((N,-1))\n",
        "      pos=pos.reshape((N,1))\n",
        "      \n",
        "      return(pos,neg)\n",
        "    \n",
        "\n",
        "    def mask_correlated_samples(self, batch_size):\n",
        "        N = 2 * batch_size\n",
        "        mask = torch.ones((N, N), dtype=bool)\n",
        "        mask = mask.fill_diagonal_(0)\n",
        "        for i in range(batch_size):\n",
        "            mask[i, batch_size + i] = 0\n",
        "            mask[batch_size + i, i] = 0\n",
        "        return mask\n",
        "    \n",
        "    def forward(self, z_i, z_j):\n",
        "        \"\"\"\n",
        "        We do not sample negative examples explicitly.\n",
        "        Instead, given a positive pair, similar to (Chen et al., 2017), we treat the other 2(N − 1) augmented examples within a minibatch as negative examples.\n",
        "        \"\"\"\n",
        "        N = 2 * self.batch_size #* self.world_size\n",
        "        #z_i_ = z_i / torch.sqrt(torch.sum(torch.square(z_i),dim = 1, keepdim = True))\n",
        "        #z_j_ = z_j / torch.sqrt(torch.sum(torch.square(z_j),dim = 1, keepdim = True))\n",
        "        z = torch.cat((z_i, z_j), dim=0)\n",
        "        #print(z);    #Print for understanding\n",
        "        z=z.float(); \n",
        "        #sim = self.similarity_f(z.unsqueeze(1), z.unsqueeze(0)) / self.temperature   #for cosine similarity\n",
        "        \n",
        "        #print(sim);              #Print for understanding\n",
        "        #sim_i_j = torch.diag(sim, self.batch_size)\n",
        "        #sim_j_i = torch.diag(sim, -self.batch_size)\n",
        "        #print(self.mask)               #Print for understanding\n",
        "        # We have 2N samples, but with Distributed training every GPU gets N examples too, resulting in: 2xNxN\n",
        "        positive_samples,negative_samples = self.Lploss(z_i,z_j)\n",
        "        #print(positive_samples)         #Print for understanding\n",
        "        #negative_samples = sim[self.mask].reshape(N, -1)\n",
        "        #print(negative_samples)         #Print for understanding\n",
        "        #SIMCLR\n",
        "        labels = torch.from_numpy(np.array([0]*N)).reshape(-1).to(positive_samples.device).long() #.float()\n",
        "        #print(np.array([1]*N).reshape(-1))    #Print for understanding\n",
        "        #labels was torch.zeros(N)\n",
        "        logits = torch.cat((positive_samples, negative_samples), dim=1)\n",
        "        #print(logits)                        #Print for understanding\n",
        "        loss = self.criterion(logits, labels)\n",
        "        loss /= N\n",
        "\n",
        "        return loss\n",
        "\n",
        "\n",
        "\n",
        "num_classes = 10\n",
        "input_shape = (32, 32, 3)\n",
        "\n",
        "# Load the train and test data splits\n",
        "(x_train, y_train), (x_test, y_test) = keras.datasets.cifar10.load_data()\n",
        "\n",
        "# Display shapes of train and test datasets\n",
        "print(f\"x_train shape: {x_train.shape} - y_train shape: {y_train.shape}\")\n",
        "print(f\"x_test shape: {x_test.shape} - y_test shape: {y_test.shape}\")\n",
        "X=SimCLR_Loss(2,1)\n",
        "\n",
        "X.forward(torch.randn( 2, 2),torch.randn(2, 2))"
      ],
      "execution_count": 6,
      "outputs": [
        {
          "output_type": "stream",
          "name": "stdout",
          "text": [
            "x_train shape: (50000, 32, 32, 3) - y_train shape: (50000, 1)\n",
            "x_test shape: (10000, 32, 32, 3) - y_test shape: (10000, 1)\n"
          ]
        },
        {
          "output_type": "execute_result",
          "data": {
            "text/plain": [
              "tensor(1.7065)"
            ]
          },
          "metadata": {},
          "execution_count": 6
        }
      ]
    },
    {
      "cell_type": "markdown",
      "metadata": {
        "id": "SWsd8nkN5mGO"
      },
      "source": [
        "Transform Layer"
      ]
    },
    {
      "cell_type": "code",
      "metadata": {
        "id": "pRyjjb-E5e3l"
      },
      "source": [
        "class TransformsSimCLR:\n",
        "    \"\"\"\n",
        "    A stochastic data augmentation module that transforms any given data example randomly\n",
        "    resulting in two correlated views of the same example,\n",
        "    denoted x ̃i and x ̃j, which we consider as a positive pair.\n",
        "    \"\"\"\n",
        "\n",
        "    def __init__(self, size):\n",
        "        s = 1\n",
        "        color_jitter = torchvision.transforms.ColorJitter(\n",
        "            0.8 * s, 0.8 * s, 0.8 * s, 0.2 * s\n",
        "        )\n",
        "        self.train_transform = torchvision.transforms.Compose(\n",
        "            [\n",
        "                torchvision.transforms.RandomResizedCrop(size=size),\n",
        "                torchvision.transforms.RandomHorizontalFlip(),  # with 0.5 probability\n",
        "                torchvision.transforms.RandomApply([color_jitter], p=0.8),\n",
        "                torchvision.transforms.RandomGrayscale(p=0.2),\n",
        "                torchvision.transforms.ToTensor(),\n",
        "            ]\n",
        "        )\n",
        "\n",
        "        self.test_transform = torchvision.transforms.Compose(\n",
        "            [\n",
        "                torchvision.transforms.Resize(size=size),\n",
        "                torchvision.transforms.ToTensor(),\n",
        "            ]\n",
        "        )\n",
        "\n",
        "    def __call__(self, x):\n",
        "        return self.train_transform(x), self.train_transform(x)"
      ],
      "execution_count": 7,
      "outputs": []
    },
    {
      "cell_type": "markdown",
      "metadata": {
        "id": "ESWCkBa-5jSY"
      },
      "source": [
        "Loading dataset"
      ]
    },
    {
      "cell_type": "code",
      "metadata": {
        "colab": {
          "base_uri": "https://localhost:8080/",
          "height": 598,
          "referenced_widgets": [
            "60fc6f625d4a475483d7fc9c764716fe",
            "de929486f13c4880bbe0777aa4b91ece",
            "e8bda0c1465a444e8c1308ad95bb744e",
            "b654fffe25b140ccb9095eb511fc0b66",
            "3f7d534a86974595aa1153ea4ffa7060",
            "eed8e30674144071a45798a7561a2c17",
            "7bb999cb47754315b22523a66eee3bf0",
            "4de76200053e483796bf24cf0a118a5b",
            "69788983c51e4e539e95d3dea70f7697",
            "b1ff0324b35f412e884fdd3e298d1f7c",
            "ed115e58d2c3461aa9e4e6022de8cc0e"
          ]
        },
        "id": "5WHIY_bo5gUA",
        "outputId": "b1485671-0a19-468b-ec56-bc2111c88843"
      },
      "source": [
        "import torch\n",
        "from torch.utils.data import Dataset\n",
        "from torchvision import datasets\n",
        "from torchvision.transforms import ToTensor\n",
        "import matplotlib.pyplot as plt\n",
        "from torch.utils.data import DataLoader\n",
        "\n",
        "training_data = datasets.CIFAR10(                #Loading CIFAR 10\n",
        "    root=\"data\",\n",
        "    train=True,\n",
        "    download=True,\n",
        "    transform=TransformsSimCLR((32,32))\n",
        ")\n",
        "test_dataset = torchvision.datasets.CIFAR10(root='data',\n",
        "train=False,\n",
        "download=True,\n",
        "transform=TransformsSimCLR((32,32)))\n",
        "\n",
        "\n",
        "train_dataloader = DataLoader(training_data, batch_size=64, shuffle=True)          #Loading train loader\n",
        "\n",
        "train_loader = torch.utils.data.DataLoader(\n",
        "        training_data,\n",
        "        batch_size=64,\n",
        "        shuffle=True,\n",
        "        drop_last=True,\n",
        "        \n",
        "    )\n",
        "test_loader = torch.utils.data.DataLoader(\n",
        "        test_dataset,\n",
        "        batch_size=64,  #Classifier batch size\n",
        "        shuffle=False,\n",
        "        drop_last=True,\n",
        "        \n",
        "    )\n",
        "\n",
        "'''train_features, train_labels = next(iter(train_dataloader))\n",
        "print(f\"Feature batch shape: {train_features.size()}\")\n",
        "print(f\"Labels batch shape: {train_labels.size()}\")\n",
        "img = train_features[0].squeeze()\n",
        "label = train_labels[0]'''\n",
        "cnt=0;\n",
        "\n",
        "for step, ((x_i, x_j),_) in enumerate(train_loader):\n",
        "  plt.imshow(x_i[1].T)\n",
        "  break;\n",
        "plt.figure()\n",
        "for step, ((x_i, x_j),_) in enumerate(test_loader):\n",
        "  plt.imshow(x_i[1].T)\n",
        "  break;"
      ],
      "execution_count": 8,
      "outputs": [
        {
          "output_type": "stream",
          "name": "stdout",
          "text": [
            "Downloading https://www.cs.toronto.edu/~kriz/cifar-10-python.tar.gz to data/cifar-10-python.tar.gz\n"
          ]
        },
        {
          "output_type": "display_data",
          "data": {
            "application/vnd.jupyter.widget-view+json": {
              "model_id": "60fc6f625d4a475483d7fc9c764716fe",
              "version_minor": 0,
              "version_major": 2
            },
            "text/plain": [
              "  0%|          | 0/170498071 [00:00<?, ?it/s]"
            ]
          },
          "metadata": {}
        },
        {
          "output_type": "stream",
          "name": "stdout",
          "text": [
            "Extracting data/cifar-10-python.tar.gz to data\n",
            "Files already downloaded and verified\n"
          ]
        },
        {
          "output_type": "display_data",
          "data": {
            "image/png": "[encoded data removed]",
            "text/plain": [
              "<Figure size 432x288 with 1 Axes>"
            ]
          },
          "metadata": {
            "needs_background": "light"
          }
        },
        {
          "output_type": "display_data",
          "data": {
            "image/png": "[encoded data removed]",
            "text/plain": [
              "<Figure size 432x288 with 1 Axes>"
            ]
          },
          "metadata": {
            "needs_background": "light"
          }
        }
      ]
    },
    {
      "cell_type": "markdown",
      "metadata": {
        "id": "xwtL00Tp5xBM"
      },
      "source": [
        "Resnet Identity Function"
      ]
    },
    {
      "cell_type": "code",
      "metadata": {
        "id": "oVisy_wo5sib"
      },
      "source": [
        "def resnet(pretrained = False):\n",
        "  resnet1=torchvision.models.resnet18(pretrained=pretrained)\n",
        "  return(resnet1)\n",
        "class Identity(nn.Module):\n",
        "    def __init__(self):\n",
        "        super(Identity, self).__init__()\n",
        "\n",
        "    def forward(self, x):\n",
        "        return x"
      ],
      "execution_count": 9,
      "outputs": []
    },
    {
      "cell_type": "markdown",
      "metadata": {
        "id": "og7LAdPA59m-"
      },
      "source": [
        "SIMCLR Forward Propagation with Projection head"
      ]
    },
    {
      "cell_type": "code",
      "metadata": {
        "id": "hQ0tY3sh5zfB"
      },
      "source": [
        "class SimCLR(nn.Module):\n",
        "    \"\"\"\n",
        "    We opt for simplicity and adopt the commonly used ResNet (He et al., 2016) to obtain hi = f(x ̃i) = ResNet(x ̃i) where hi ∈ Rd is the output after the average pooling layer.\n",
        "    \"\"\"\n",
        "\n",
        "    def __init__(self, encoder, projection_dim, n_features):\n",
        "        super(SimCLR, self).__init__()\n",
        "\n",
        "        self.encoder = encoder\n",
        "        self.n_features = n_features\n",
        "\n",
        "        # Replace the fc layer with an Identity function\n",
        "        self.encoder.fc = Identity()\n",
        "\n",
        "        # We use a MLP with one hidden layer to obtain z_i = g(h_i) = W(2)σ(W(1)h_i) where σ is a ReLU non-linearity.\n",
        "        self.projector = nn.Sequential(\n",
        "            nn.Linear(self.n_features, self.n_features, bias=False),\n",
        "            nn.BatchNorm1d(num_features=512),\n",
        "            nn.ReLU(),\n",
        "            nn.Linear(self.n_features, projection_dim, bias=False),\n",
        "            nn.BatchNorm1d(num_features=512)\n",
        "        )\n",
        "\n",
        "    def forward(self, x_i, x_j):\n",
        "        h_i = self.encoder(x_i)\n",
        "        h_j = self.encoder(x_j)\n",
        "\n",
        "        z_i = self.projector(h_i)\n",
        "        z_j = self.projector(h_j)\n",
        "        return h_i, h_j, z_i, z_j"
      ],
      "execution_count": 10,
      "outputs": []
    },
    {
      "cell_type": "markdown",
      "metadata": {
        "id": "mjySK-Hl6Gky"
      },
      "source": [
        "SIMCLR Training "
      ]
    },
    {
      "cell_type": "code",
      "metadata": {
        "id": "cY3zT67W6BjK"
      },
      "source": [
        "def train(train_loader, model, criterion, optimizer):\n",
        "    loss_epoch = 0\n",
        "    for step, ((x_i, x_j), _) in enumerate(train_loader):\n",
        "        optimizer.zero_grad()\n",
        "        x_i = x_i.cuda(non_blocking=True)\n",
        "        x_j = x_j.cuda(non_blocking=True)\n",
        "\n",
        "        # positive pair, with encoding\n",
        "        h_i, h_j, z_i, z_j = model(x_i, x_j)\n",
        "\n",
        "        loss = criterion(z_i, z_j)\n",
        "        loss.backward()\n",
        "\n",
        "        optimizer.step()\n",
        "\n",
        "        loss_epoch += loss.item()\n",
        "    return loss_epoch\n"
      ],
      "execution_count": 11,
      "outputs": []
    },
    {
      "cell_type": "code",
      "metadata": {
        "id": "MF0LCBRLeOIj"
      },
      "source": [
        "\n",
        "import os\n",
        "os.chdir(\"drive/MyDrive\")\n"
      ],
      "execution_count": 12,
      "outputs": []
    },
    {
      "cell_type": "code",
      "metadata": {
        "id": "WLr6iFq4eei-"
      },
      "source": [
        ""
      ],
      "execution_count": null,
      "outputs": []
    },
    {
      "cell_type": "code",
      "metadata": {
        "id": "7gth5Xcqduwx"
      },
      "source": [
        "def save_model(simclr_model,epoch):\n",
        "  PATH='modelLp'\n",
        "  state = {\n",
        "    'epoch': epoch,\n",
        "    'state_dict': simclr_model.state_dict(),\n",
        "    'optimizer': optimizer.state_dict(),\n",
        "  }\n",
        "  torch.save(state, PATH)"
      ],
      "execution_count": 13,
      "outputs": []
    },
    {
      "cell_type": "markdown",
      "metadata": {
        "id": "XKqQsYqY6N6s"
      },
      "source": [
        "Main() for pretraining Resnet"
      ]
    },
    {
      "cell_type": "code",
      "metadata": {
        "colab": {
          "base_uri": "https://localhost:8080/",
          "height": 52
        },
        "id": "7WeAxZtt6M5L",
        "outputId": "10b8f18c-306e-4c3d-bcb7-962d6acd370e"
      },
      "source": [
        "from torchsummary import summary\n",
        "encoder = resnet(pretrained=False)\n",
        "n_features = encoder.fc.in_features  # get dimensions of fc layer\n",
        "projection_dim=512       #change projection dimension here.\n",
        "simclr_model = SimCLR(encoder, projection_dim, n_features).cuda()  #first time\n",
        "#state = torch.load('model')\n",
        "#simclr_model.load_state_dict(state['state_dict'])\n",
        "optimizer = torch.optim.Adam(simclr_model.parameters(), lr=3e-4)\n",
        "#optimizer.load_state_dict(state['optimizer'])\n",
        "\n",
        "scheduler = None\n",
        "\n",
        "batch_size=64   #change batch size here\n",
        "temperature= 0.5   #change temperature here\n",
        "#criterion = SimCLR_Loss(batch_size, temperature)         #cosine similarity simCLR loss\n",
        "criterion = SimCLR_LossLp1(batch_size,temperature)\n",
        "num_epochs = 2\n",
        "#summary(simclr_model,[(3,32,32),(3,32,32)])\n",
        "#exit()\n",
        "for epoch in range(1, num_epochs):\n",
        "  lr = optimizer.param_groups[0][\"lr\"]\n",
        "  loss_epoch = train(train_loader, simclr_model, criterion, optimizer)\n",
        "  print(epoch)\n",
        "\n",
        "save_model(simclr_model,num_epochs)   \n",
        "\n",
        "'''if args.nr == 0 and epoch % 10 == 0:\n",
        "save_model(args, model, optimizer) ''' #saving model\n"
      ],
      "execution_count": 31,
      "outputs": [
        {
          "output_type": "stream",
          "name": "stdout",
          "text": [
            "1\n"
          ]
        },
        {
          "output_type": "execute_result",
          "data": {
            "application/vnd.google.colaboratory.intrinsic+json": {
              "type": "string"
            },
            "text/plain": [
              "'if args.nr == 0 and epoch % 10 == 0:\\nsave_model(args, model, optimizer) '"
            ]
          },
          "metadata": {},
          "execution_count": 31
        }
      ]
    },
    {
      "cell_type": "code",
      "metadata": {
        "id": "OM70U38b9L6O",
        "colab": {
          "base_uri": "https://localhost:8080/"
        },
        "outputId": "63018099-62c1-418b-df77-323ad3a954fb"
      },
      "source": [
        "x=torch.tensor([3])\n",
        "\n",
        "\n",
        "x=torch.cat((x,torch.tensor([3])),dim=0)\n",
        "#x=torch.cat((x,torch.tensor([4])),dim=0)\n",
        "#x=torch.cat((x,torch.tensor([1,2,3])),dim=0)\n",
        "x"
      ],
      "execution_count": 26,
      "outputs": [
        {
          "output_type": "execute_result",
          "data": {
            "text/plain": [
              "tensor([3, 3])"
            ]
          },
          "metadata": {},
          "execution_count": 26
        }
      ]
    },
    {
      "cell_type": "markdown",
      "metadata": {
        "id": "16MLcAPc3mY0"
      },
      "source": [
        "TSNE Plot for original and encoded data"
      ]
    },
    {
      "cell_type": "code",
      "metadata": {
        "colab": {
          "base_uri": "https://localhost:8080/",
          "height": 616
        },
        "id": "GRwdRWKk-yhO",
        "outputId": "12098668-d153-476d-d6e9-2258b4a3b8cc"
      },
      "source": [
        "#original data\n",
        "import matplotlib\n",
        "data=[];\n",
        "label=[]\n",
        "data_enc=[]\n",
        "cnt=0\n",
        "encoder = resnet(pretrained=False)\n",
        "n_features = encoder.fc.in_features  # get dimensions of fc layer\n",
        "projection_dim=512       #change projection dimension here.\n",
        "simclr_model = SimCLR(encoder, projection_dim, n_features).cuda()  #first time\n",
        "state = torch.load('model')\n",
        "simclr_model.load_state_dict(state['state_dict'])\n",
        "optimizer = torch.optim.Adam(simclr_model.parameters(), lr=3e-4)\n",
        "optimizer.load_state_dict(state['optimizer'])\n",
        "for step, ((x_i,_),gt_i) in enumerate(test_loader):\n",
        "  \n",
        "  for sp1,x in enumerate(x_i):\n",
        "    x=np.array(x).reshape((32*32*3));\n",
        "    data.append(np.array(x))\n",
        "  x_i = x_i.cuda(non_blocking=True)\n",
        "  h_i,_,z_i,_=simclr_model(x_i,x_i)\n",
        "  h_i=h_i.cpu().detach().numpy()\n",
        "  for sp1,x in enumerate(h_i):\n",
        "    data_enc.append(x)\n",
        "  for sp1,x in enumerate(gt_i):\n",
        "    label.append(x)\n",
        "  cnt+=64;\n",
        "  \n",
        "\n",
        "data=np.array(data);\n",
        "label=np.array(label)\n",
        "md=TSNE(random_state=0)\n",
        "data=md.fit_transform(data)\n",
        "data_enc=md.fit_transform(data_enc)\n",
        "print(np.shape(data))\n",
        "print(np.shape(label))\n",
        "import seaborn as sns\n",
        "print(np.shape(data[:,0]))\n",
        "print(np.shape(data[:1]))\n",
        "colors=['b','g','r','c','m','y','k','purple','orange','olive']\n",
        "plt.scatter(x=data[:,0],y=data[:,1],c=label,cmap=matplotlib.colors.ListedColormap(colors))\n",
        "cb = plt.colorbar()\n",
        "loc = np.arange(0,max(label),max(label)/float(len(colors)))\n",
        "cb.set_ticks(loc)\n",
        "cb.set_ticklabels(colors)\n",
        "plt.savefig('original2.png', bbox_inches='tight')\n",
        "plt.figure()\n",
        "\n",
        "plt.scatter(x=data_enc[:,0],y=data_enc[:,1],c=label,cmap=matplotlib.colors.ListedColormap(colors))\n",
        "cb = plt.colorbar()\n",
        "loc = np.arange(0,max(label),max(label)/float(len(colors)))\n",
        "cb.set_ticks(loc)\n",
        "cb.set_ticklabels(colors)\n",
        "plt.savefig('encoded2.png', bbox_inches='tight')\n",
        "plt.figure()"
      ],
      "execution_count": null,
      "outputs": [
        {
          "output_type": "stream",
          "name": "stdout",
          "text": [
            "(9984, 2)\n",
            "(9984,)\n",
            "(9984,)\n",
            "(1, 2)\n"
          ]
        },
        {
          "output_type": "execute_result",
          "data": {
            "text/plain": [
              "<Figure size 432x288 with 0 Axes>"
            ]
          },
          "metadata": {},
          "execution_count": 27
        },
        {
          "output_type": "display_data",
          "data": {
            "image/png": "[encoded data removed]",
            "text/plain": [
              "<Figure size 432x288 with 2 Axes>"
            ]
          },
          "metadata": {
            "needs_background": "light"
          }
        },
        {
          "output_type": "display_data",
          "data": {
            "image/png": "[encoded data removed]",
            "text/plain": [
              "<Figure size 432x288 with 2 Axes>"
            ]
          },
          "metadata": {
            "needs_background": "light"
          }
        },
        {
          "output_type": "display_data",
          "data": {
            "text/plain": [
              "<Figure size 432x288 with 0 Axes>"
            ]
          },
          "metadata": {}
        }
      ]
    },
    {
      "cell_type": "code",
      "metadata": {
        "id": "IpZqJ7HpHR4u"
      },
      "source": [
        ""
      ],
      "execution_count": null,
      "outputs": []
    },
    {
      "cell_type": "code",
      "metadata": {
        "id": "Tkg_wBaHAbFq"
      },
      "source": [
        "X = np.array([[0, 0, 0], [0, 1, 1], [1, 0, 1], [1, 1, 1]])\n",
        "model = TSNE(n_components=2, random_state=0)\n",
        "model.fit_transform(X) "
      ],
      "execution_count": null,
      "outputs": []
    },
    {
      "cell_type": "markdown",
      "metadata": {
        "id": "S1UevTtk6Zl2"
      },
      "source": [
        "Logistic Regression"
      ]
    },
    {
      "cell_type": "code",
      "metadata": {
        "id": "z8UuRTc26UFl"
      },
      "source": [
        "class LogisticRegression(nn.Module):\n",
        "    def __init__(self, n_features, n_classes):\n",
        "        super(LogisticRegression, self).__init__()\n",
        "\n",
        "        self.model = nn.Linear(n_features, n_classes)\n",
        "\n",
        "    def forward(self, x):\n",
        "        return self.model(x)"
      ],
      "execution_count": null,
      "outputs": []
    },
    {
      "cell_type": "markdown",
      "metadata": {
        "id": "maoYOXJq6fsO"
      },
      "source": [
        "Linear Classifier"
      ]
    },
    {
      "cell_type": "code",
      "metadata": {
        "id": "Q1gZaUiA6bjB",
        "colab": {
          "base_uri": "https://localhost:8080/"
        },
        "outputId": "4d2d083f-6010-4f25-8e41-25840fb21a51"
      },
      "source": [
        "def inference(loader, simclr_model, device):\n",
        "    feature_vector = []\n",
        "    labels_vector = []\n",
        "    for step, ((x, _),y) in enumerate(loader):\n",
        "        \n",
        "        x = x.to(device)\n",
        "        \n",
        "        # get encoding\n",
        "        with torch.no_grad():\n",
        "            h, _, z, _ = simclr_model(x, x)\n",
        "\n",
        "        h = h.detach()\n",
        "\n",
        "        feature_vector.extend(h.cpu().detach().numpy())\n",
        "        labels_vector.extend(y.numpy())\n",
        "\n",
        "        if step % 20 == 0:\n",
        "            print(f\"Step [{step}/{len(loader)}]\\t Computing features...\")\n",
        "            #break\n",
        "\n",
        "    feature_vector = np.array(feature_vector)\n",
        "    labels_vector = np.array(labels_vector)\n",
        "    print(\"Features shape {}\".format(feature_vector.shape))\n",
        "    return feature_vector, labels_vector\n",
        "\n",
        "\n",
        "def get_features(simclr_model, train_loader, test_loader, device):\n",
        "    train_X, train_y = inference(train_loader, simclr_model, device)\n",
        "    test_X, test_y = inference(test_loader, simclr_model, device)\n",
        "    return train_X, train_y, test_X, test_y\n",
        "\n",
        "\n",
        "def create_data_loaders_from_arrays(X_train, y_train, X_test, y_test, batch_size):\n",
        "    train = torch.utils.data.TensorDataset(\n",
        "        torch.from_numpy(X_train), torch.from_numpy(y_train)\n",
        "    )\n",
        "    train_loader = torch.utils.data.DataLoader(\n",
        "        train, batch_size=batch_size, shuffle=False\n",
        "    )\n",
        "\n",
        "    test = torch.utils.data.TensorDataset(\n",
        "        torch.from_numpy(X_test), torch.from_numpy(y_test)\n",
        "    )\n",
        "    test_loader = torch.utils.data.DataLoader(\n",
        "        test, batch_size=batch_size, shuffle=False\n",
        "    )\n",
        "    return train_loader, test_loader\n",
        "\n",
        "device = 'cuda:0'\n",
        "def train1(loader, simclr_model, model, criterion, optimizer):\n",
        "    loss_epoch = 0\n",
        "    accuracy_epoch = 0\n",
        "    for step, (x, y) in enumerate(loader):\n",
        "        optimizer.zero_grad()\n",
        "\n",
        "        x = x.cuda()\n",
        "        y = y.cuda()\n",
        "\n",
        "        output = model(x)\n",
        "\n",
        "        #y=torch.argmax(y,dim=1)\n",
        "       \n",
        "        #print(output)\n",
        "        #print(y)\n",
        "        loss = criterion(output, y)\n",
        "\n",
        "        predicted = output.argmax(1)\n",
        "        acc = (predicted == y).sum().item() / y.size(0)\n",
        "        accuracy_epoch += acc\n",
        "\n",
        "        loss.backward()\n",
        "        optimizer.step()\n",
        "\n",
        "        loss_epoch += loss.item()\n",
        "        # if step % 100 == 0:\n",
        "        #     print(\n",
        "        #         f\"Step [{step}/{len(loader)}]\\t Loss: {loss.item()}\\t Accuracy: {acc}\"\n",
        "        #     )\n",
        "\n",
        "    return loss_epoch, accuracy_epoch\n",
        "\n",
        "\n",
        "def test(loader, simclr_model, model, criterion, optimizer):\n",
        "    loss_epoch = 0\n",
        "    accuracy_epoch = 0\n",
        "    model.eval()\n",
        "    for step, (x,y) in enumerate(loader):\n",
        "        model.zero_grad()\n",
        "\n",
        "        x = x.to(device)\n",
        "        y = y.to(device)\n",
        "        y=y.long()\n",
        "        output = model(x)\n",
        "        loss = criterion(output, y)\n",
        "\n",
        "        predicted = output.argmax(1)\n",
        "        acc = (predicted == y).sum().item() / y.size(0)\n",
        "        accuracy_epoch += acc\n",
        "\n",
        "        loss_epoch += loss.item()\n",
        "\n",
        "    return loss_epoch, accuracy_epoch\n",
        "\n",
        "n_classes = 10  # CIFAR-10 / STL-10\n",
        "state = torch.load('model')\n",
        "simclr_model.load_state_dict(state['state_dict'])\n",
        "simclr_model.eval();\n",
        "model = LogisticRegression(simclr_model.n_features, n_classes)\n",
        "model = model.to(device)\n",
        "\n",
        "optimizer = torch.optim.Adam(model.parameters(), lr=3e-4)\n",
        "criterion = torch.nn.CrossEntropyLoss()\n",
        "(train_X, train_y, test_X, test_y) = get_features(\n",
        "        simclr_model, train_loader, test_loader, device\n",
        "    )\n",
        "#print(train_y);\n",
        "#exit(0)\n",
        "arr_train_loader, arr_test_loader = create_data_loaders_from_arrays(\n",
        "        train_X, train_y, test_X, test_y, batch_size\n",
        "    )\n",
        "'''for step, (x, y) in enumerate(arr_train_loader):\n",
        "  print(np.shape(x))\n",
        "  print(np.shape(y));'''\n",
        "#exit(0)\n",
        "logistic_epochs=10;\n",
        "for epoch in range(logistic_epochs):\n",
        "    loss_epoch, accuracy_epoch = train1(\n",
        "        arr_train_loader, simclr_model, model, criterion, optimizer\n",
        "        )\n",
        "print(\n",
        "            f\"Epoch [{epoch}/{logistic_epochs}]\\t Loss: {loss_epoch / len(arr_train_loader)}\\t Accuracy: {accuracy_epoch / len(arr_train_loader)}\"\n",
        ")\n",
        "\n",
        "    # final testing\n",
        "loss_epoch, accuracy_epoch = test(\n",
        "        arr_test_loader, simclr_model, model, criterion, optimizer\n",
        "    )\n",
        "print(\n",
        "   f\"[FINAL]\\t Loss: {loss_epoch / len(arr_test_loader)}\\t Accuracy: {accuracy_epoch / len(arr_test_loader)}\"\n",
        "    )"
      ],
      "execution_count": null,
      "outputs": [
        {
          "output_type": "stream",
          "name": "stdout",
          "text": [
            "Step [0/781]\t Computing features...\n",
            "Step [20/781]\t Computing features...\n",
            "Step [40/781]\t Computing features...\n",
            "Step [60/781]\t Computing features...\n",
            "Step [80/781]\t Computing features...\n",
            "Step [100/781]\t Computing features...\n",
            "Step [120/781]\t Computing features...\n",
            "Step [140/781]\t Computing features...\n",
            "Step [160/781]\t Computing features...\n",
            "Step [180/781]\t Computing features...\n",
            "Step [200/781]\t Computing features...\n",
            "Step [220/781]\t Computing features...\n",
            "Step [240/781]\t Computing features...\n",
            "Step [260/781]\t Computing features...\n",
            "Step [280/781]\t Computing features...\n",
            "Step [300/781]\t Computing features...\n",
            "Step [320/781]\t Computing features...\n",
            "Step [340/781]\t Computing features...\n",
            "Step [360/781]\t Computing features...\n",
            "Step [380/781]\t Computing features...\n",
            "Step [400/781]\t Computing features...\n",
            "Step [420/781]\t Computing features...\n",
            "Step [440/781]\t Computing features...\n",
            "Step [460/781]\t Computing features...\n",
            "Step [480/781]\t Computing features...\n",
            "Step [500/781]\t Computing features...\n",
            "Step [520/781]\t Computing features...\n",
            "Step [540/781]\t Computing features...\n",
            "Step [560/781]\t Computing features...\n",
            "Step [580/781]\t Computing features...\n",
            "Step [600/781]\t Computing features...\n",
            "Step [620/781]\t Computing features...\n",
            "Step [640/781]\t Computing features...\n",
            "Step [660/781]\t Computing features...\n",
            "Step [680/781]\t Computing features...\n",
            "Step [700/781]\t Computing features...\n",
            "Step [720/781]\t Computing features...\n",
            "Step [740/781]\t Computing features...\n",
            "Step [760/781]\t Computing features...\n",
            "Step [780/781]\t Computing features...\n",
            "Features shape (49984, 512)\n",
            "Step [0/156]\t Computing features...\n",
            "Step [20/156]\t Computing features...\n",
            "Step [40/156]\t Computing features...\n",
            "Step [60/156]\t Computing features...\n",
            "Step [80/156]\t Computing features...\n",
            "Step [100/156]\t Computing features...\n",
            "Step [120/156]\t Computing features...\n",
            "Step [140/156]\t Computing features...\n",
            "Features shape (9984, 512)\n",
            "Epoch [9/10]\t Loss: 1.3727078712551297\t Accuracy: 0.5048415492957746\n",
            "[FINAL]\t Loss: 1.4043523233670454\t Accuracy: 0.4896834935897436\n"
          ]
        }
      ]
    },
    {
      "cell_type": "code",
      "metadata": {
        "id": "l6vasbuPLknF"
      },
      "source": [
        "x=[[0,1,0,0],[1,0,0,0]]\n",
        "x=torch.Tensor(x);\n",
        "x=torch.argmax(x,dim=1)\n",
        "print(x)\n"
      ],
      "execution_count": null,
      "outputs": []
    }
  ]
}